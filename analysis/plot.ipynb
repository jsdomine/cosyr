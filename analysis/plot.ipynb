{
 "cells": [
  {
   "cell_type": "markdown",
   "metadata": {},
   "source": [
    "# Plot simulation data"
   ]
  },
  {
   "cell_type": "code",
   "execution_count": 1,
   "metadata": {},
   "outputs": [],
   "source": [
    "%matplotlib qt"
   ]
  },
  {
   "cell_type": "code",
   "execution_count": 2,
   "metadata": {},
   "outputs": [],
   "source": [
    "import matplotlib.pyplot as plt\n",
    "import numpy as np\n",
    "from scipy.interpolate import griddata\n",
    "import matplotlib.tri as tri"
   ]
  },
  {
   "cell_type": "code",
   "execution_count": 6,
   "metadata": {},
   "outputs": [],
   "source": [
    "import numpy as np\n",
    "import matplotlib.pyplot as plt\n",
    "from scipy import stats\n",
    "\n",
    "dist = stats.norm(loc=600, scale=190)\n",
    "dist_2 = stats.norm(loc=600, scale=100)\n",
    "bounds = dist.cdf([0, 1200])\n",
    "bounds_2 = dist_2.cdf([0, 1200])\n",
    "# bounds = np.array([0., 1.])\n",
    "# print(bounds)\n",
    "pp = np.linspace(*bounds, num=200)\n",
    "pp_2 = np.linspace(*bounds_2, num=200)\n",
    "vals = dist.ppf(pp)\n",
    "vals_2 = dist_2.ppf(pp_2)\n",
    "# vals = dist.pdf(pp)\n",
    "# print(vals - 600)\n",
    "\n",
    "plt.title(\"wavelets distribution\")\n",
    "plt.plot(vals - 600, [1]*vals.size, 'o')\n",
    "xs = np.linspace(0, 1200, 200)\n",
    "plt.plot(xs - 600, 100*dist.pdf(xs))\n",
    "plt.ylim(ymin=0)\n",
    "plt.show()"
   ]
  },
  {
   "cell_type": "code",
   "execution_count": 4,
   "metadata": {},
   "outputs": [
    {
     "name": "stdout",
     "output_type": "stream",
     "text": [
      "600.0 0.24328807982293602 0.0003\n",
      "[-6.00000000e+02 -5.94059406e+02 -5.88118812e+02 -5.82178218e+02\n",
      " -5.76237624e+02 -5.70297030e+02 -5.64356436e+02 -5.58415842e+02\n",
      " -5.52475248e+02 -5.46534653e+02 -5.40594059e+02 -5.34653465e+02\n",
      " -5.28712871e+02 -5.22772277e+02 -5.16831683e+02 -5.10891089e+02\n",
      " -5.04950495e+02 -4.99009901e+02 -4.93069307e+02 -4.87128713e+02\n",
      " -4.81188119e+02 -4.75247525e+02 -4.69306931e+02 -4.63366337e+02\n",
      " -4.57425743e+02 -4.51485149e+02 -4.45544554e+02 -4.39603960e+02\n",
      " -4.33663366e+02 -4.27722772e+02 -4.21782178e+02 -4.15841584e+02\n",
      " -4.09900990e+02 -4.03960396e+02 -3.98019802e+02 -3.92079208e+02\n",
      " -3.86138614e+02 -3.80198020e+02 -3.74257426e+02 -3.68316832e+02\n",
      " -3.62376238e+02 -3.56435644e+02 -3.50495050e+02 -3.44554455e+02\n",
      " -3.38613861e+02 -3.32673267e+02 -3.26732673e+02 -3.20792079e+02\n",
      " -3.14851485e+02 -3.08910891e+02 -3.02970297e+02 -2.97029703e+02\n",
      " -2.91089109e+02 -2.85148515e+02 -2.79207921e+02 -2.73267327e+02\n",
      " -2.67326733e+02 -2.61386139e+02 -2.55445545e+02 -2.49504950e+02\n",
      " -2.43564356e+02 -2.37623762e+02 -2.31683168e+02 -2.25742574e+02\n",
      " -2.19801980e+02 -2.13861386e+02 -2.07920792e+02 -2.01980198e+02\n",
      " -1.96039604e+02 -1.90099010e+02 -1.84158416e+02 -1.78217822e+02\n",
      " -1.72277228e+02 -1.66336634e+02 -1.60396040e+02 -1.54455446e+02\n",
      " -1.48514851e+02 -1.42574257e+02 -1.36633663e+02 -1.30693069e+02\n",
      " -1.24752475e+02 -1.18811881e+02 -1.12871287e+02 -1.06930693e+02\n",
      " -1.00990099e+02 -9.50495050e+01 -8.91089109e+01 -8.31683168e+01\n",
      " -7.72277228e+01 -7.12871287e+01 -6.53465347e+01 -5.94059406e+01\n",
      " -5.34653465e+01 -4.75247525e+01 -4.15841584e+01 -3.56435644e+01\n",
      " -2.97029703e+01 -2.37623762e+01 -1.78217822e+01 -1.18811881e+01\n",
      " -5.94059406e+00  0.00000000e+00  6.00000000e-04  4.80000000e-03\n",
      "  1.62000000e-02  3.84000000e-02  7.50000000e-02  1.29600000e-01\n",
      "  2.05800000e-01  3.07200000e-01  4.37400000e-01  6.00000000e-01\n",
      "  7.98600000e-01  1.03680000e+00  1.31820000e+00  1.64640000e+00\n",
      "  2.02500000e+00  2.45760000e+00  2.94780000e+00  3.49920000e+00\n",
      "  4.11540000e+00  4.80000000e+00  5.55660000e+00  6.38880000e+00\n",
      "  7.30020000e+00  8.29440000e+00  9.37500000e+00  1.05456000e+01\n",
      "  1.18098000e+01  1.31712000e+01  1.46334000e+01  1.62000000e+01\n",
      "  1.78746000e+01  1.96608000e+01  2.15622000e+01  2.35824000e+01\n",
      "  2.57250000e+01  2.79936000e+01  3.03918000e+01  3.29232000e+01\n",
      "  3.55914000e+01  3.84000000e+01  4.13526000e+01  4.44528000e+01\n",
      "  4.77042000e+01  5.11104000e+01  5.46750000e+01  5.84016000e+01\n",
      "  6.22938000e+01  6.63552000e+01  7.05894000e+01  7.50000000e+01\n",
      "  7.95906000e+01  8.43648000e+01  8.93262000e+01  9.44784000e+01\n",
      "  9.98250000e+01  1.05369600e+02  1.11115800e+02  1.17067200e+02\n",
      "  1.23227400e+02  1.29600000e+02  1.36188600e+02  1.42996800e+02\n",
      "  1.50028200e+02  1.57286400e+02  1.64775000e+02  1.72497600e+02\n",
      "  1.80457800e+02  1.88659200e+02  1.97105400e+02  2.05800000e+02\n",
      "  2.14746600e+02  2.23948800e+02  2.33410200e+02  2.43134400e+02\n",
      "  2.53125000e+02  2.63385600e+02  2.73919800e+02  2.84731200e+02\n",
      "  2.95823400e+02  3.07200000e+02  3.18864600e+02  3.30820800e+02\n",
      "  3.43072200e+02  3.55622400e+02  3.68475000e+02  3.81633600e+02\n",
      "  3.95101800e+02  4.08883200e+02  4.22981400e+02  4.37400000e+02\n",
      "  4.52142600e+02  4.67212800e+02  4.82614200e+02  4.98350400e+02\n",
      "  5.14425000e+02  5.30841600e+02  5.47603800e+02  5.64715200e+02\n",
      "  5.82179400e+02  6.00000000e+02]\n"
     ]
    },
    {
     "data": {
      "image/png": "[encoded data removed]",
      "text/plain": [
       "<Figure size 432x288 with 1 Axes>"
      ]
     },
     "metadata": {
      "needs_background": "light"
     },
     "output_type": "display_data"
    }
   ],
   "source": [
    "import numpy as np\n",
    "import matplotlib.pyplot as plt\n",
    "\n",
    "\n",
    "gamma = 100.0\n",
    "alpha_max = 600.0/1e6*gamma**3.0\n",
    "number_of_wavelets_pos = 101  # for positive alpha axis\n",
    "number_of_wavelets_neg = 101   # for negative alpha axis\n",
    "\n",
    "psi_max=(24.0*alpha_max/gamma**3.0)**(1.0/3.0)\n",
    "psi_max_negative_axis = alpha_max/gamma**3.0/2.0\n",
    "\n",
    "print(alpha_max, psi_max, psi_max_negative_axis)\n",
    "\n",
    "psi_for_pos_axis = np.linspace(0.0, psi_max, number_of_wavelets_pos)\n",
    "psi_for_neg_axis = np.linspace(psi_max_negative_axis, 0.0, number_of_wavelets_neg, endpoint=False)\n",
    "\n",
    "alpha_axis = np.zeros(number_of_wavelets_pos + number_of_wavelets_neg)\n",
    "alpha_axis[:number_of_wavelets_neg] = -psi_for_neg_axis*2.0\n",
    "alpha_axis[number_of_wavelets_neg:] = psi_for_pos_axis**3.0/24.0\n",
    "\n",
    "alpha_axis *= gamma**3.0\n",
    "\n",
    "\n",
    "plt.plot(alpha_axis, \"+\")\n",
    "plt.xlabel(\"count\")\n",
    "plt.ylabel(\"alpha\")\n",
    "print(alpha_axis)"
   ]
  },
  {
   "cell_type": "code",
   "execution_count": 9,
   "metadata": {},
   "outputs": [
    {
     "name": "stdout",
     "output_type": "stream",
     "text": [
      "[-600.         -599.9897819  -599.97956554 -599.96935091 -599.95913801\n",
      " -599.94892685 -599.93871741 -599.92850972 -599.91830375 -599.90809951\n",
      " -599.897897   -599.88769623 -599.87749718 -599.86729986 -599.85710426\n",
      " -599.8469104  -599.83671826 -599.82652785 -599.81633916 -599.80615219\n",
      " -599.79596695 -599.78578344 -599.77560164 -599.76542157 -599.75524322\n",
      " -599.74506659 -599.73489168 -599.72471849 -599.71454702 -599.70437727\n",
      " -599.69420924 -599.68404292 -599.67387832 -599.66371543 -599.65355426\n",
      " -599.64339481 -599.63323707 -599.62308104 -599.61292673 -599.60277413\n",
      " -599.59262324 -599.58247406 -599.57232659 -599.56218083 -599.55203679\n",
      " -599.54189445 -599.53175381 -599.52161489 -599.51147767 -599.50134216\n",
      " -599.49120836 -599.48107625 -599.47094586 -599.46081717 -599.45069018\n",
      " -599.44056489 -599.43044131 -599.42031943 -599.41019924 -599.40008076\n",
      " -599.38996398 -599.3798489  -599.36973551 -599.35962383 -599.34951384\n",
      " -599.33940555 -599.32929895 -599.31919405 -599.30909085 -599.29898933\n",
      " -599.28888952 -599.27879139 -599.26869496 -599.25860022 -599.24850717\n",
      " -599.23841581 -599.22832614 -599.21823817 -599.20815188 -599.19806727\n",
      " -599.18798436 -599.17790313 -599.16782359 -599.15774574 -599.14766957\n",
      " -599.13759509 -599.12752229 -599.11745117 -599.10738174 -599.09731399\n",
      " -599.08724792 -599.07718353 -599.06712083 -599.0570598  -599.04700045\n",
      " -599.03694279 -599.0268868  -599.01683248 -599.00677985 -598.99672889\n",
      " -598.98667961 -598.976632   -598.96658607 -598.95654181 -598.94649922\n",
      " -598.93645831 -598.92641907 -598.91638151 -598.90634561 -598.89631138\n",
      " -598.88627883 -598.87624794 -598.86621873 -598.85619118 -598.8461653\n",
      " -598.83614108 -598.82611854 -598.81609765 -598.80607844 -598.79606089\n",
      " -598.786045   -598.77603078 -598.76601822 -598.75600732 -598.74599809\n",
      " -598.73599051 -598.7259846  -598.71598035 -598.70597775 -598.69597682\n",
      " -598.68597754 -598.67597992 -598.66598396 -598.65598966 -598.64599701\n",
      " -598.63600602 -598.62601668 -598.616029   -598.60604297 -598.5960586\n",
      " -598.58607587 -598.5760948  -598.56611538 -598.55613762 -598.5461615\n",
      " -598.53618703 -598.52621421 -598.51624304 -598.50627352 -598.49630564\n",
      " -598.48633942 -598.47637484 -598.4664119  -598.45645061 -598.44649097\n",
      " -598.43653297 -598.42657661 -598.41662189 -598.40666882 -598.39671739\n",
      " -598.3867676  -598.37681945 -598.36687295 -598.35692808 -598.34698485\n",
      " -598.33704326 -598.3271033  -598.31716499 -598.30722831 -598.29729327\n",
      " -598.28735986 -598.27742809 -598.26749795 -598.25756945 -598.24764257\n",
      " -598.23771734 -598.22779373 -598.21787176 -598.20795141 -598.1980327\n",
      " -598.18811562 -598.17820017 -598.16828634 -598.15837415 -598.14846358\n",
      " -598.13855464 -598.12864732 -598.11874163 -598.10883757 -598.09893513\n",
      " -598.08903432 -598.07913513 -598.06923756 -598.05934162 -598.0494473\n",
      " -598.0395546  -598.02966352 -598.01977406 -598.00988622 -598.        ]\n"
     ]
    }
   ],
   "source": [
    "# smoothing lengths\n",
    "dist = stats.norm(loc=600, scale=190)\n",
    "dist_2 = stats.norm(loc=600, scale=100)\n",
    "bounds = dist.cdf([0, 2])\n",
    "bounds_2 = dist_2.cdf([0, 2])\n",
    "\n",
    "pp = np.linspace(*bounds, num=200)\n",
    "pp_2 = np.linspace(*bounds_2, num=200)\n",
    "vals = dist.ppf(pp)\n",
    "vals_2 = dist_2.ppf(pp_2)\n",
    "# vals = dist.pdf(pp)\n",
    "print(vals - 600)\n",
    "\n",
    "plt.title(\"wavelets distribution\")\n",
    "plt.plot(vals - 600, [1]*vals.size, 'o')\n",
    "xs = np.linspace(0, 1200, 200)\n",
    "plt.plot(xs - 600, 100*dist.pdf(xs))\n",
    "plt.ylim(ymin=0)\n",
    "plt.show()"
   ]
  },
  {
   "cell_type": "markdown",
   "metadata": {},
   "source": [
    "### Load data"
   ]
  },
  {
   "cell_type": "code",
   "execution_count": 5,
   "metadata": {},
   "outputs": [],
   "source": [
    "data_folder=\"../../build/data/\"\n",
    "particleid=\"_0\"\n",
    "pos_x, pos_y = np.loadtxt(data_folder + 'wavefronts'+particleid+'.csv', delimiter=',', unpack=True)\n",
    "traj_x, traj_y = np.loadtxt(data_folder + 'trajectory'+particleid+'.csv', delimiter=',', unpack=True)\n",
    "m_pos_x, m_pos_y = np.loadtxt(data_folder + 'comoving_mesh_pos.csv', delimiter=',', unpack=True)\n",
    "vfld, afld, tf = np.loadtxt(data_folder + 'field'+particleid+'.csv', delimiter=',', unpack=True)\n",
    "atil, xtil ,tot= np.loadtxt(data_folder +'comoving_mesh_rad_ang.csv', delimiter=',', unpack=True)\n",
    "vel_f, acc_f, tot_f = np.loadtxt(data_folder + 'comoving_mesh_field.csv', delimiter=',', unpack=True)\n",
    "#a, x, tot = np.loadtxt('fields.csv', delimiter=',', unpack=True)\n",
    "\n",
    "xmin = m_pos_x.min(); xmax = m_pos_x.max()\n",
    "ymin = m_pos_y.min(); ymax = m_pos_y.max()"
   ]
  },
  {
   "cell_type": "markdown",
   "metadata": {},
   "source": [
    "### Plot wavefronts"
   ]
  },
  {
   "cell_type": "code",
   "execution_count": 6,
   "metadata": {},
   "outputs": [],
   "source": [
    "# \n",
    "ndir =200\n",
    "nwavefront=3000\n",
    "plot_every = 5\n",
    "wave_x = pos_x.reshape([nwavefront,ndir]).transpose()\n",
    "wave_y = pos_y.reshape([nwavefront,ndir]).transpose()\n",
    "#lastwave_x=pos_x[16500:17000]\n",
    "#lastwave_y=pos_y[16500:17000]\n",
    "\n",
    "fig, ax= plt.subplots()\n",
    "\n",
    "#ax.scatter(pos_x,pos_y, s=1, facecolor='lightseagreen', label=\"wavefronts\")\n",
    "#ax.scatter(lastwave_x,lastwave_y, s=1, facecolor='darkorange', label=\"last_time_step\")\n",
    "\n",
    "ax.plot(wave_x[:, ::plot_every],wave_y[:, ::plot_every],\".:\")\n",
    "#ax.scatter(traj_x,traj_y, s=2, marker=\"+\", facecolor='brown', label=\"trajectory\")\n",
    "# position centered at the time of emission\n",
    "ax.scatter((traj_x+np.roll(traj_x,1))[1:]/2.0, (traj_y+np.roll(traj_y,1))[1:]/2.0, s=20, marker=\"+\", facecolor='brown', label=\"trajectory\")\n",
    "\n",
    "plt.xlim(xmin, xmax)\n",
    "plt.ylim(ymin, ymax)\n",
    "plt.xlabel('x')\n",
    "plt.ylabel('y')\n",
    "plt.title('traj and wavefronts')\n",
    "l = plt.legend(loc='upper right')\n",
    "ax.grid(True)\n",
    "plt.show()\n",
    "plt.savefig('csr_wavefronts.png')\n"
   ]
  },
  {
   "cell_type": "code",
   "execution_count": 7,
   "metadata": {},
   "outputs": [
    {
     "name": "stdout",
     "output_type": "stream",
     "text": [
      "0.294037916583 0.955809059105\n"
     ]
    }
   ],
   "source": [
    "print(traj_x[-1],traj_y[-1])"
   ]
  },
  {
   "cell_type": "markdown",
   "metadata": {},
   "source": [
    "### Plot mesh"
   ]
  },
  {
   "cell_type": "code",
   "execution_count": 8,
   "metadata": {},
   "outputs": [],
   "source": [
    "firstwave_x = pos_x[:200]\n",
    "firstwave_y = pos_y[:200]\n",
    "\n",
    "fig, ax= plt.subplots()\n",
    "ax.scatter(m_pos_x,m_pos_y, s=18, facecolor='orangered', label=\"Moving mesh\")\n",
    "ax.scatter(pos_x,pos_y, s=4, facecolor='teal', label=\"Wavefronts\")\n",
    "#ax.scatter(traj_x,traj_y, s=15, facecolor='black', label=\"Tracjectory\")\n",
    "ax.scatter((traj_x+np.roll(traj_x,1))[1:]/2.0, (traj_y+np.roll(traj_y,1))[1:]/2.0, s=20, marker=\"+\", facecolor='brown', label=\"trajectory\")\n",
    "#ax.scatter(firstwave_x,firstwave_y, s=60, facecolor='orangered', label=\"First_time_step\")\n",
    "#ax.tick_params(labelsize=30)\n",
    "\n",
    "plt.xlim(xmin, xmax)\n",
    "plt.ylim(ymin, ymax)\n",
    "#plt.axis('equal')\n",
    "plt.xlabel('x')\n",
    "plt.ylabel('y')\n",
    "plt.title('Co-moving mesh with the wavefronts',fontsize=25)\n",
    "l = plt.legend(loc='upper right')\n",
    "ax.grid(True)\n",
    "plt.legend(loc='upper right', prop={'size': 20})\n",
    "plt.show()\n",
    "plt.savefig('csr_mesh.png')"
   ]
  },
  {
   "cell_type": "markdown",
   "metadata": {},
   "source": [
    "### Plot field"
   ]
  },
  {
   "cell_type": "code",
   "execution_count": 9,
   "metadata": {},
   "outputs": [],
   "source": [
    "gamma = 10\n",
    "tf_n=tf/(gamma**4.0)\n",
    "vf_n=vfld/(gamma**4.0)\n",
    "af_n=afld/(gamma**4.0)\n",
    "f_n = tf_n\n",
    "\n",
    "fig, ax= plt.subplots()\n",
    "#fig = plt.figure()\n",
    "#ax = fig.add_subplot(111, projection='3d')\n",
    "#ax.scatter(pos_x, pos_y, tf_n,  marker='o')\n",
    "\n",
    "cm = plt.cm.get_cmap('coolwarm')\n",
    "#sc=ax.scatter(pos_x,pos_y,c=tf_n, marker='.',s=3,cmap=cm )\n",
    "\n",
    "sc=ax.scatter(pos_x,pos_y,c=f_n,vmin=-6,vmax=6, marker='o',s=40,cmap=cm )\n",
    "#sc=ax.scatter(pos_x,pos_y,c=f_n, marker='o',s=40,cmap=cm )\n",
    "plt.colorbar(sc)           \n",
    "#ax.set_facecolor('grey')\n",
    "plt.xlim(xmin, xmax)\n",
    "plt.ylim(ymin, ymax)\n",
    "plt.xlabel('x')\n",
    "plt.ylabel('y')\n",
    "plt.rc('xtick',labelsize=25)\n",
    "plt.rc('ytick',labelsize=25)\n",
    "ax.tick_params(labelsize=30)\n",
    "plt.title('Normalized total field',fontsize=25)\n",
    "#plt.legend(loc='upper right', prop={'size': 25})\n",
    "ax.grid(True)\n",
    "plt.show()\n",
    "plt.savefig('csr_circular_field.png')"
   ]
  },
  {
   "cell_type": "markdown",
   "metadata": {},
   "source": [
    "### Plot interpolated field"
   ]
  },
  {
   "cell_type": "code",
   "execution_count": 10,
   "metadata": {},
   "outputs": [
    {
     "name": "stdout",
     "output_type": "stream",
     "text": [
      "-0.04 0.0\n"
     ]
    }
   ],
   "source": [
    "gamma = 10\n",
    "nr = 101; ntheta=101\n",
    "tf_n=tot/(gamma**4.0)\n",
    "vf_n=vel_f/(gamma**4.0)\n",
    "af_n=acc_f/(gamma**4.0)\n",
    "f_n = tf_n/100\n",
    "f_n_arr = f_n.reshape([ntheta,nr]).transpose()\n",
    "print(f_n.min(),f_n.max())\n",
    "\n",
    "fig, ax= plt.subplots(1)\n",
    "\n",
    "cm = plt.cm.get_cmap('coolwarm')\n",
    "#coolwarm\n",
    "#sc = ax.scatter( xtil, atil, c=f_n, vmin=-5, vmax=5, marker='.', s=5, cmap=cm ) \n",
    "#sc = ax.imshow( f_n_arr, vmin=-6, vmax=6, cmap=cm, aspect=\"auto\",origin=\"upper\" )\n",
    "#sc = ax.imshow( f_n_arr, cmap=cm, aspect=\"auto\" )\n",
    "sc = ax.scatter(m_pos_x,m_pos_y, c=f_n, vmin=-6, vmax=6, marker='.', s=10, cmap=cm )\n",
    "plt.xlim(xmin, xmax)\n",
    "plt.ylim(ymin, ymax)\n",
    "plt.colorbar(sc)\n",
    "ax.set_facecolor('grey' )\n",
    "plt.xlabel('x')\n",
    "plt.ylabel('y')\n",
    "plt.title('field on the mesh ')\n",
    "#l = plt.legend(loc='upper right')\n",
    "ax.grid(True)\n",
    "plt.show()\n",
    "plt.savefig('csr_mesh_field_rad_ang.png')"
   ]
  },
  {
   "cell_type": "markdown",
   "metadata": {},
   "source": [
    "### Benchmark"
   ]
  },
  {
   "cell_type": "code",
   "execution_count": 12,
   "metadata": {},
   "outputs": [
    {
     "ename": "NameError",
     "evalue": "name 'a' is not defined",
     "output_type": "error",
     "traceback": [
      "\u001b[0;31m---------------------------------------------------------------------------\u001b[0m",
      "\u001b[0;31mNameError\u001b[0m                                 Traceback (most recent call last)",
      "\u001b[0;32m<ipython-input-12-b5494984a952>\u001b[0m in \u001b[0;36m<module>\u001b[0;34m\u001b[0m\n\u001b[1;32m      2\u001b[0m \u001b[0mgamma\u001b[0m\u001b[0;34m=\u001b[0m\u001b[0;36m10\u001b[0m\u001b[0;34m\u001b[0m\u001b[0;34m\u001b[0m\u001b[0m\n\u001b[1;32m      3\u001b[0m \u001b[0mtf_n\u001b[0m\u001b[0;34m=\u001b[0m\u001b[0mtot\u001b[0m\u001b[0;34m/\u001b[0m\u001b[0;34m-\u001b[0m\u001b[0mgamma\u001b[0m\u001b[0;34m**\u001b[0m\u001b[0;36m4\u001b[0m\u001b[0;34m\u001b[0m\u001b[0;34m\u001b[0m\u001b[0m\n\u001b[0;32m----> 4\u001b[0;31m \u001b[0ma\u001b[0m\u001b[0;34m=\u001b[0m\u001b[0;34m-\u001b[0m\u001b[0ma\u001b[0m\u001b[0;34m/\u001b[0m\u001b[0;36m180\u001b[0m\u001b[0;34m*\u001b[0m\u001b[0mnp\u001b[0m\u001b[0;34m.\u001b[0m\u001b[0mpi\u001b[0m\u001b[0;34m\u001b[0m\u001b[0;34m\u001b[0m\u001b[0m\n\u001b[0m\u001b[1;32m      5\u001b[0m \u001b[0mx\u001b[0m\u001b[0;34m=\u001b[0m\u001b[0mx\u001b[0m\u001b[0;34m\u001b[0m\u001b[0;34m\u001b[0m\u001b[0m\n\u001b[1;32m      6\u001b[0m \u001b[0mcm\u001b[0m \u001b[0;34m=\u001b[0m \u001b[0mplt\u001b[0m\u001b[0;34m.\u001b[0m\u001b[0mcm\u001b[0m\u001b[0;34m.\u001b[0m\u001b[0mget_cmap\u001b[0m\u001b[0;34m(\u001b[0m\u001b[0;34m'coolwarm'\u001b[0m\u001b[0;34m)\u001b[0m\u001b[0;34m\u001b[0m\u001b[0;34m\u001b[0m\u001b[0m\n",
      "\u001b[0;31mNameError\u001b[0m: name 'a' is not defined"
     ]
    }
   ],
   "source": [
    "fig=plt.figure(1)\n",
    "gamma=10\n",
    "tf_n=tot/-gamma**4\n",
    "a=-a/180*np.pi\n",
    "x=x\n",
    "cm = plt.cm.get_cmap('coolwarm')\n",
    "#sc = ax.scatter(x, a, c=tf_n, marker='o', s=5, cmap=cm ) \n",
    "#sc = plt.scatter(a, x, c=tf_n, vmin=-10, vmax=10, marker='o', s=1, cmap=cm )\n",
    "sc = plt.scatter(a, x, c=tf_n, marker='o', s=1, cmap=cm )\n",
    "#ax = fig.add_subplot(111)\n",
    "plt.colorbar(sc)\n",
    "#ax.set_facecolor('grey' )\n",
    "xx=0.005\n",
    "aa=0.0005\n",
    "plt.ylim([-xx,xx]) \n",
    "plt.xlim([-aa,aa])\n",
    "plt.ylabel('x')\n",
    "plt.xlabel('a')\n",
    "#plt.title('field on the wavefronts')\n",
    "#l = plt.legend(loc='upper right')\n",
    "plt.grid(True)\n",
    "#plt.show()\n",
    "#plt.savefig('csr_mesh_field.png')\n",
    "\n",
    "# define grid.\n",
    "#pos =np.array([x, a]).T\n",
    "#grid_x, grid_a = np.mgrid[-0.05:0.05:500j, -0.005:0.005:500j]\n",
    "#grid_z0 = griddata( pos, tf_n, (grid_x, grid_a), method='nearest')\n",
    "\n",
    "plt.figure(2)\n",
    "# define grid.                                                                                                                                                                      \n",
    "#xi = np.linspace(-0.01,0.01,100)\n",
    "#ai = np.linspace(-0.01,0.01,100)\n",
    "xi = np.linspace(-0.005,0.005,100)\n",
    "ai = np.linspace(-0.0005,0.0005,100)\n",
    "pos =np.array([a, x]).T\n",
    "# grid the data.\n",
    "zi = griddata((a, x), tf_n, (ai[None,:], xi[:,None]), method='linear')\n",
    "# contour the gridded data, plotting dots at the randomly spaced data points.\n",
    "levels = np.linspace(-10.0, 10.0, 11)\n",
    "CS = plt.contour(ai,xi,zi,levels=levels,linewidths=0.7,colors='k')\n",
    "CS = plt.contourf(ai,xi,zi,levels=levels, cmap=plt.cm.jet)\n",
    "plt.colorbar() # draw colorbar\n",
    "# plot data points.\n",
    "#plt.scatter(x,a,marker='o',c='b',s=1)\n",
    "plt.ylim(-xx,xx)\n",
    "plt.xlim(-aa,aa)\n",
    "#plt.title('griddata test (%d points)' % npts)\n",
    "plt.show()"
   ]
  },
  {
   "cell_type": "code",
   "execution_count": null,
   "metadata": {},
   "outputs": [],
   "source": []
  },
  {
   "cell_type": "code",
   "execution_count": null,
   "metadata": {},
   "outputs": [],
   "source": []
  },
  {
   "cell_type": "code",
   "execution_count": null,
   "metadata": {},
   "outputs": [],
   "source": []
  }
 ],
 "metadata": {
  "file_extension": ".py",
  "kernelspec": {
   "display_name": "Python 3",
   "language": "python",
   "name": "python3"
  },
  "language_info": {
   "codemirror_mode": {
    "name": "ipython",
    "version": 3
   },
   "file_extension": ".py",
   "mimetype": "text/x-python",
   "name": "python",
   "nbconvert_exporter": "python",
   "pygments_lexer": "ipython3",
   "version": "3.9.1"
  },
  "mimetype": "text/x-python",
  "name": "python",
  "npconvert_exporter": "python",
  "pygments_lexer": "ipython2",
  "toc": {
   "base_numbering": 1,
   "nav_menu": {},
   "number_sections": true,
   "sideBar": true,
   "skip_h1_title": false,
   "title_cell": "Table of Contents",
   "title_sidebar": "Contents",
   "toc_cell": false,
   "toc_position": {},
   "toc_section_display": true,
   "toc_window_display": false
  },
  "version": 2
 },
 "nbformat": 4,
 "nbformat_minor": 2
}
