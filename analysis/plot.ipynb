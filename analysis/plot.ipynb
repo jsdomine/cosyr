{
 "cells": [
  {
   "cell_type": "markdown",
   "metadata": {},
   "source": [
    "# Plot simulation data"
   ]
  },
  {
   "cell_type": "code",
   "execution_count": 1,
   "metadata": {},
   "outputs": [],
   "source": [
    "%matplotlib qt"
   ]
  },
  {
   "cell_type": "code",
   "execution_count": 2,
   "metadata": {},
   "outputs": [],
   "source": [
    "import matplotlib.pyplot as plt\n",
    "import numpy as np\n",
    "from scipy.interpolate import griddata\n",
    "import matplotlib.tri as tri"
   ]
  },
  {
   "cell_type": "code",
   "execution_count": 6,
   "metadata": {},
   "outputs": [],
   "source": [
    "import numpy as np\n",
    "import matplotlib.pyplot as plt\n",
    "from scipy import stats\n",
    "\n",
    "dist = stats.norm(loc=600, scale=190)\n",
    "dist_2 = stats.norm(loc=600, scale=100)\n",
    "bounds = dist.cdf([0, 1200])\n",
    "bounds_2 = dist_2.cdf([0, 1200])\n",
    "# bounds = np.array([0., 1.])\n",
    "# print(bounds)\n",
    "pp = np.linspace(*bounds, num=200)\n",
    "pp_2 = np.linspace(*bounds_2, num=200)\n",
    "vals = dist.ppf(pp)\n",
    "vals_2 = dist_2.ppf(pp_2)\n",
    "# vals = dist.pdf(pp)\n",
    "# print(vals - 600)\n",
    "\n",
    "plt.title(\"wavelets distribution\")\n",
    "plt.plot(vals - 600, [1]*vals.size, 'o')\n",
    "xs = np.linspace(0, 1200, 200)\n",
    "plt.plot(xs - 600, 100*dist.pdf(xs))\n",
    "plt.ylim(ymin=0)\n",
    "plt.show()"
   ]
  },
  {
   "cell_type": "code",
   "execution_count": 2,
   "metadata": {},
   "outputs": [
    {
     "name": "stdout",
     "output_type": "stream",
     "text": [
      "200.0 0.16868653306034986 0.0001\n",
      "[-2.00000000e+02 -1.90000000e+02 -1.80000000e+02 -1.70000000e+02\n",
      " -1.60000000e+02 -1.50000000e+02 -1.40000000e+02 -1.30000000e+02\n",
      " -1.20000000e+02 -1.10000000e+02 -1.00000000e+02 -9.00000000e+01\n",
      " -8.00000000e+01 -7.00000000e+01 -6.00000000e+01 -5.00000000e+01\n",
      " -4.00000000e+01 -3.00000000e+01 -2.00000000e+01 -1.00000000e+01\n",
      "  0.00000000e+00  2.91587695e-02  2.33270156e-01  7.87286776e-01\n",
      "  1.86616125e+00  3.64484619e+00  6.29829421e+00  1.00014579e+01\n",
      "  1.49292900e+01  2.12567430e+01  2.91587695e+01  3.88103222e+01\n",
      "  5.03863537e+01  6.40618166e+01  8.00116635e+01  9.84108471e+01\n",
      "  1.19434320e+02  1.43257035e+02  1.70053944e+02  2.00000000e+02]\n"
     ]
    },
    {
     "data": {
      "image/png": "[encoded data removed]",
      "text/plain": [
       "<Figure size 432x288 with 1 Axes>"
      ]
     },
     "metadata": {
      "needs_background": "light"
     },
     "output_type": "display_data"
    }
   ],
   "source": [
    "import numpy as np\n",
    "import matplotlib.pyplot as plt\n",
    "\n",
    "\n",
    "gamma = 100.0\n",
    "alpha_max = 200.0/1e6*gamma**3.0\n",
    "number_of_wavelets_pos = 20  # for positive alpha axis\n",
    "number_of_wavelets_neg = 20   # for negative alpha axis\n",
    "\n",
    "psi_max=(24.0*alpha_max/gamma**3.0)**(1.0/3.0)\n",
    "psi_max_negative_axis = alpha_max/gamma**3.0/2.0\n",
    "\n",
    "print(alpha_max, psi_max, psi_max_negative_axis)\n",
    "\n",
    "psi_for_pos_axis = np.linspace(0.0, psi_max, number_of_wavelets_pos)\n",
    "psi_for_neg_axis = np.linspace(psi_max_negative_axis, 0.0, number_of_wavelets_neg, endpoint=False)\n",
    "\n",
    "alpha_axis = np.zeros(number_of_wavelets_pos + number_of_wavelets_neg)\n",
    "alpha_axis[:number_of_wavelets_neg] = -psi_for_neg_axis*2.0\n",
    "alpha_axis[number_of_wavelets_neg:] = psi_for_pos_axis**3.0/24.0\n",
    "\n",
    "alpha_axis *= gamma**3.0\n",
    "\n",
    "\n",
    "plt.plot(alpha_axis, \"+\")\n",
    "plt.xlabel(\"count\")\n",
    "plt.ylabel(\"alpha\")\n",
    "print(alpha_axis)"
   ]
  },
  {
   "cell_type": "code",
   "execution_count": 9,
   "metadata": {},
   "outputs": [
    {
     "name": "stdout",
     "output_type": "stream",
     "text": [
      "[-600.         -599.9897819  -599.97956554 -599.96935091 -599.95913801\n",
      " -599.94892685 -599.93871741 -599.92850972 -599.91830375 -599.90809951\n",
      " -599.897897   -599.88769623 -599.87749718 -599.86729986 -599.85710426\n",
      " -599.8469104  -599.83671826 -599.82652785 -599.81633916 -599.80615219\n",
      " -599.79596695 -599.78578344 -599.77560164 -599.76542157 -599.75524322\n",
      " -599.74506659 -599.73489168 -599.72471849 -599.71454702 -599.70437727\n",
      " -599.69420924 -599.68404292 -599.67387832 -599.66371543 -599.65355426\n",
      " -599.64339481 -599.63323707 -599.62308104 -599.61292673 -599.60277413\n",
      " -599.59262324 -599.58247406 -599.57232659 -599.56218083 -599.55203679\n",
      " -599.54189445 -599.53175381 -599.52161489 -599.51147767 -599.50134216\n",
      " -599.49120836 -599.48107625 -599.47094586 -599.46081717 -599.45069018\n",
      " -599.44056489 -599.43044131 -599.42031943 -599.41019924 -599.40008076\n",
      " -599.38996398 -599.3798489  -599.36973551 -599.35962383 -599.34951384\n",
      " -599.33940555 -599.32929895 -599.31919405 -599.30909085 -599.29898933\n",
      " -599.28888952 -599.27879139 -599.26869496 -599.25860022 -599.24850717\n",
      " -599.23841581 -599.22832614 -599.21823817 -599.20815188 -599.19806727\n",
      " -599.18798436 -599.17790313 -599.16782359 -599.15774574 -599.14766957\n",
      " -599.13759509 -599.12752229 -599.11745117 -599.10738174 -599.09731399\n",
      " -599.08724792 -599.07718353 -599.06712083 -599.0570598  -599.04700045\n",
      " -599.03694279 -599.0268868  -599.01683248 -599.00677985 -598.99672889\n",
      " -598.98667961 -598.976632   -598.96658607 -598.95654181 -598.94649922\n",
      " -598.93645831 -598.92641907 -598.91638151 -598.90634561 -598.89631138\n",
      " -598.88627883 -598.87624794 -598.86621873 -598.85619118 -598.8461653\n",
      " -598.83614108 -598.82611854 -598.81609765 -598.80607844 -598.79606089\n",
      " -598.786045   -598.77603078 -598.76601822 -598.75600732 -598.74599809\n",
      " -598.73599051 -598.7259846  -598.71598035 -598.70597775 -598.69597682\n",
      " -598.68597754 -598.67597992 -598.66598396 -598.65598966 -598.64599701\n",
      " -598.63600602 -598.62601668 -598.616029   -598.60604297 -598.5960586\n",
      " -598.58607587 -598.5760948  -598.56611538 -598.55613762 -598.5461615\n",
      " -598.53618703 -598.52621421 -598.51624304 -598.50627352 -598.49630564\n",
      " -598.48633942 -598.47637484 -598.4664119  -598.45645061 -598.44649097\n",
      " -598.43653297 -598.42657661 -598.41662189 -598.40666882 -598.39671739\n",
      " -598.3867676  -598.37681945 -598.36687295 -598.35692808 -598.34698485\n",
      " -598.33704326 -598.3271033  -598.31716499 -598.30722831 -598.29729327\n",
      " -598.28735986 -598.27742809 -598.26749795 -598.25756945 -598.24764257\n",
      " -598.23771734 -598.22779373 -598.21787176 -598.20795141 -598.1980327\n",
      " -598.18811562 -598.17820017 -598.16828634 -598.15837415 -598.14846358\n",
      " -598.13855464 -598.12864732 -598.11874163 -598.10883757 -598.09893513\n",
      " -598.08903432 -598.07913513 -598.06923756 -598.05934162 -598.0494473\n",
      " -598.0395546  -598.02966352 -598.01977406 -598.00988622 -598.        ]\n"
     ]
    }
   ],
   "source": [
    "# smoothing lengths\n",
    "dist = stats.norm(loc=600, scale=190)\n",
    "dist_2 = stats.norm(loc=600, scale=100)\n",
    "bounds = dist.cdf([0, 2])\n",
    "bounds_2 = dist_2.cdf([0, 2])\n",
    "\n",
    "pp = np.linspace(*bounds, num=200)\n",
    "pp_2 = np.linspace(*bounds_2, num=200)\n",
    "vals = dist.ppf(pp)\n",
    "vals_2 = dist_2.ppf(pp_2)\n",
    "# vals = dist.pdf(pp)\n",
    "print(vals - 600)\n",
    "\n",
    "plt.title(\"wavelets distribution\")\n",
    "plt.plot(vals - 600, [1]*vals.size, 'o')\n",
    "xs = np.linspace(0, 1200, 200)\n",
    "plt.plot(xs - 600, 100*dist.pdf(xs))\n",
    "plt.ylim(ymin=0)\n",
    "plt.show()"
   ]
  },
  {
   "cell_type": "markdown",
   "metadata": {},
   "source": [
    "### Load data"
   ]
  },
  {
   "cell_type": "code",
   "execution_count": 5,
   "metadata": {},
   "outputs": [],
   "source": [
    "data_folder=\"../../build/data/\"\n",
    "particleid=\"_0\"\n",
    "pos_x, pos_y = np.loadtxt(data_folder + 'wavefronts'+particleid+'.csv', delimiter=',', unpack=True)\n",
    "traj_x, traj_y = np.loadtxt(data_folder + 'trajectory'+particleid+'.csv', delimiter=',', unpack=True)\n",
    "m_pos_x, m_pos_y = np.loadtxt(data_folder + 'comoving_mesh_pos.csv', delimiter=',', unpack=True)\n",
    "vfld, afld, tf = np.loadtxt(data_folder + 'field'+particleid+'.csv', delimiter=',', unpack=True)\n",
    "atil, xtil ,tot= np.loadtxt(data_folder +'comoving_mesh_rad_ang.csv', delimiter=',', unpack=True)\n",
    "vel_f, acc_f, tot_f = np.loadtxt(data_folder + 'comoving_mesh_field.csv', delimiter=',', unpack=True)\n",
    "#a, x, tot = np.loadtxt('fields.csv', delimiter=',', unpack=True)\n",
    "\n",
    "xmin = m_pos_x.min(); xmax = m_pos_x.max()\n",
    "ymin = m_pos_y.min(); ymax = m_pos_y.max()"
   ]
  },
  {
   "cell_type": "markdown",
   "metadata": {},
   "source": [
    "### Plot wavefronts"
   ]
  },
  {
   "cell_type": "code",
   "execution_count": 6,
   "metadata": {},
   "outputs": [],
   "source": [
    "# \n",
    "ndir =200\n",
    "nwavefront=3000\n",
    "plot_every = 5\n",
    "wave_x = pos_x.reshape([nwavefront,ndir]).transpose()\n",
    "wave_y = pos_y.reshape([nwavefront,ndir]).transpose()\n",
    "#lastwave_x=pos_x[16500:17000]\n",
    "#lastwave_y=pos_y[16500:17000]\n",
    "\n",
    "fig, ax= plt.subplots()\n",
    "\n",
    "#ax.scatter(pos_x,pos_y, s=1, facecolor='lightseagreen', label=\"wavefronts\")\n",
    "#ax.scatter(lastwave_x,lastwave_y, s=1, facecolor='darkorange', label=\"last_time_step\")\n",
    "\n",
    "ax.plot(wave_x[:, ::plot_every],wave_y[:, ::plot_every],\".:\")\n",
    "#ax.scatter(traj_x,traj_y, s=2, marker=\"+\", facecolor='brown', label=\"trajectory\")\n",
    "# position centered at the time of emission\n",
    "ax.scatter((traj_x+np.roll(traj_x,1))[1:]/2.0, (traj_y+np.roll(traj_y,1))[1:]/2.0, s=20, marker=\"+\", facecolor='brown', label=\"trajectory\")\n",
    "\n",
    "plt.xlim(xmin, xmax)\n",
    "plt.ylim(ymin, ymax)\n",
    "plt.xlabel('x')\n",
    "plt.ylabel('y')\n",
    "plt.title('traj and wavefronts')\n",
    "l = plt.legend(loc='upper right')\n",
    "ax.grid(True)\n",
    "plt.show()\n",
    "plt.savefig('csr_wavefronts.png')\n"
   ]
  },
  {
   "cell_type": "code",
   "execution_count": 7,
   "metadata": {},
   "outputs": [
    {
     "name": "stdout",
     "output_type": "stream",
     "text": [
      "0.294037916583 0.955809059105\n"
     ]
    }
   ],
   "source": [
    "print(traj_x[-1],traj_y[-1])"
   ]
  },
  {
   "cell_type": "markdown",
   "metadata": {},
   "source": [
    "### Plot mesh"
   ]
  },
  {
   "cell_type": "code",
   "execution_count": 8,
   "metadata": {},
   "outputs": [],
   "source": [
    "firstwave_x = pos_x[:200]\n",
    "firstwave_y = pos_y[:200]\n",
    "\n",
    "fig, ax= plt.subplots()\n",
    "ax.scatter(m_pos_x,m_pos_y, s=18, facecolor='orangered', label=\"Moving mesh\")\n",
    "ax.scatter(pos_x,pos_y, s=4, facecolor='teal', label=\"Wavefronts\")\n",
    "#ax.scatter(traj_x,traj_y, s=15, facecolor='black', label=\"Tracjectory\")\n",
    "ax.scatter((traj_x+np.roll(traj_x,1))[1:]/2.0, (traj_y+np.roll(traj_y,1))[1:]/2.0, s=20, marker=\"+\", facecolor='brown', label=\"trajectory\")\n",
    "#ax.scatter(firstwave_x,firstwave_y, s=60, facecolor='orangered', label=\"First_time_step\")\n",
    "#ax.tick_params(labelsize=30)\n",
    "\n",
    "plt.xlim(xmin, xmax)\n",
    "plt.ylim(ymin, ymax)\n",
    "#plt.axis('equal')\n",
    "plt.xlabel('x')\n",
    "plt.ylabel('y')\n",
    "plt.title('Co-moving mesh with the wavefronts',fontsize=25)\n",
    "l = plt.legend(loc='upper right')\n",
    "ax.grid(True)\n",
    "plt.legend(loc='upper right', prop={'size': 20})\n",
    "plt.show()\n",
    "plt.savefig('csr_mesh.png')"
   ]
  },
  {
   "cell_type": "markdown",
   "metadata": {},
   "source": [
    "### Plot field"
   ]
  },
  {
   "cell_type": "code",
   "execution_count": 9,
   "metadata": {},
   "outputs": [],
   "source": [
    "gamma = 10\n",
    "tf_n=tf/(gamma**4.0)\n",
    "vf_n=vfld/(gamma**4.0)\n",
    "af_n=afld/(gamma**4.0)\n",
    "f_n = tf_n\n",
    "\n",
    "fig, ax= plt.subplots()\n",
    "#fig = plt.figure()\n",
    "#ax = fig.add_subplot(111, projection='3d')\n",
    "#ax.scatter(pos_x, pos_y, tf_n,  marker='o')\n",
    "\n",
    "cm = plt.cm.get_cmap('coolwarm')\n",
    "#sc=ax.scatter(pos_x,pos_y,c=tf_n, marker='.',s=3,cmap=cm )\n",
    "\n",
    "sc=ax.scatter(pos_x,pos_y,c=f_n,vmin=-6,vmax=6, marker='o',s=40,cmap=cm )\n",
    "#sc=ax.scatter(pos_x,pos_y,c=f_n, marker='o',s=40,cmap=cm )\n",
    "plt.colorbar(sc)           \n",
    "#ax.set_facecolor('grey')\n",
    "plt.xlim(xmin, xmax)\n",
    "plt.ylim(ymin, ymax)\n",
    "plt.xlabel('x')\n",
    "plt.ylabel('y')\n",
    "plt.rc('xtick',labelsize=25)\n",
    "plt.rc('ytick',labelsize=25)\n",
    "ax.tick_params(labelsize=30)\n",
    "plt.title('Normalized total field',fontsize=25)\n",
    "#plt.legend(loc='upper right', prop={'size': 25})\n",
    "ax.grid(True)\n",
    "plt.show()\n",
    "plt.savefig('csr_circular_field.png')"
   ]
  },
  {
   "cell_type": "markdown",
   "metadata": {},
   "source": [
    "### Plot interpolated field"
   ]
  },
  {
   "cell_type": "code",
   "execution_count": 10,
   "metadata": {},
   "outputs": [
    {
     "name": "stdout",
     "output_type": "stream",
     "text": [
      "-0.04 0.0\n"
     ]
    }
   ],
   "source": [
    "gamma = 10\n",
    "nr = 101; ntheta=101\n",
    "tf_n=tot/(gamma**4.0)\n",
    "vf_n=vel_f/(gamma**4.0)\n",
    "af_n=acc_f/(gamma**4.0)\n",
    "f_n = tf_n/100\n",
    "f_n_arr = f_n.reshape([ntheta,nr]).transpose()\n",
    "print(f_n.min(),f_n.max())\n",
    "\n",
    "fig, ax= plt.subplots(1)\n",
    "\n",
    "cm = plt.cm.get_cmap('coolwarm')\n",
    "#coolwarm\n",
    "#sc = ax.scatter( xtil, atil, c=f_n, vmin=-5, vmax=5, marker='.', s=5, cmap=cm ) \n",
    "#sc = ax.imshow( f_n_arr, vmin=-6, vmax=6, cmap=cm, aspect=\"auto\",origin=\"upper\" )\n",
    "#sc = ax.imshow( f_n_arr, cmap=cm, aspect=\"auto\" )\n",
    "sc = ax.scatter(m_pos_x,m_pos_y, c=f_n, vmin=-6, vmax=6, marker='.', s=10, cmap=cm )\n",
    "plt.xlim(xmin, xmax)\n",
    "plt.ylim(ymin, ymax)\n",
    "plt.colorbar(sc)\n",
    "ax.set_facecolor('grey' )\n",
    "plt.xlabel('x')\n",
    "plt.ylabel('y')\n",
    "plt.title('field on the mesh ')\n",
    "#l = plt.legend(loc='upper right')\n",
    "ax.grid(True)\n",
    "plt.show()\n",
    "plt.savefig('csr_mesh_field_rad_ang.png')"
   ]
  },
  {
   "cell_type": "markdown",
   "metadata": {},
   "source": [
    "### Benchmark"
   ]
  },
  {
   "cell_type": "code",
   "execution_count": 12,
   "metadata": {},
   "outputs": [
    {
     "ename": "NameError",
     "evalue": "name 'a' is not defined",
     "output_type": "error",
     "traceback": [
      "\u001b[0;31m---------------------------------------------------------------------------\u001b[0m",
      "\u001b[0;31mNameError\u001b[0m                                 Traceback (most recent call last)",
      "\u001b[0;32m<ipython-input-12-b5494984a952>\u001b[0m in \u001b[0;36m<module>\u001b[0;34m\u001b[0m\n\u001b[1;32m      2\u001b[0m \u001b[0mgamma\u001b[0m\u001b[0;34m=\u001b[0m\u001b[0;36m10\u001b[0m\u001b[0;34m\u001b[0m\u001b[0;34m\u001b[0m\u001b[0m\n\u001b[1;32m      3\u001b[0m \u001b[0mtf_n\u001b[0m\u001b[0;34m=\u001b[0m\u001b[0mtot\u001b[0m\u001b[0;34m/\u001b[0m\u001b[0;34m-\u001b[0m\u001b[0mgamma\u001b[0m\u001b[0;34m**\u001b[0m\u001b[0;36m4\u001b[0m\u001b[0;34m\u001b[0m\u001b[0;34m\u001b[0m\u001b[0m\n\u001b[0;32m----> 4\u001b[0;31m \u001b[0ma\u001b[0m\u001b[0;34m=\u001b[0m\u001b[0;34m-\u001b[0m\u001b[0ma\u001b[0m\u001b[0;34m/\u001b[0m\u001b[0;36m180\u001b[0m\u001b[0;34m*\u001b[0m\u001b[0mnp\u001b[0m\u001b[0;34m.\u001b[0m\u001b[0mpi\u001b[0m\u001b[0;34m\u001b[0m\u001b[0;34m\u001b[0m\u001b[0m\n\u001b[0m\u001b[1;32m      5\u001b[0m \u001b[0mx\u001b[0m\u001b[0;34m=\u001b[0m\u001b[0mx\u001b[0m\u001b[0;34m\u001b[0m\u001b[0;34m\u001b[0m\u001b[0m\n\u001b[1;32m      6\u001b[0m \u001b[0mcm\u001b[0m \u001b[0;34m=\u001b[0m \u001b[0mplt\u001b[0m\u001b[0;34m.\u001b[0m\u001b[0mcm\u001b[0m\u001b[0;34m.\u001b[0m\u001b[0mget_cmap\u001b[0m\u001b[0;34m(\u001b[0m\u001b[0;34m'coolwarm'\u001b[0m\u001b[0;34m)\u001b[0m\u001b[0;34m\u001b[0m\u001b[0;34m\u001b[0m\u001b[0m\n",
      "\u001b[0;31mNameError\u001b[0m: name 'a' is not defined"
     ]
    }
   ],
   "source": [
    "fig=plt.figure(1)\n",
    "gamma=10\n",
    "tf_n=tot/-gamma**4\n",
    "a=-a/180*np.pi\n",
    "x=x\n",
    "cm = plt.cm.get_cmap('coolwarm')\n",
    "#sc = ax.scatter(x, a, c=tf_n, marker='o', s=5, cmap=cm ) \n",
    "#sc = plt.scatter(a, x, c=tf_n, vmin=-10, vmax=10, marker='o', s=1, cmap=cm )\n",
    "sc = plt.scatter(a, x, c=tf_n, marker='o', s=1, cmap=cm )\n",
    "#ax = fig.add_subplot(111)\n",
    "plt.colorbar(sc)\n",
    "#ax.set_facecolor('grey' )\n",
    "xx=0.005\n",
    "aa=0.0005\n",
    "plt.ylim([-xx,xx]) \n",
    "plt.xlim([-aa,aa])\n",
    "plt.ylabel('x')\n",
    "plt.xlabel('a')\n",
    "#plt.title('field on the wavefronts')\n",
    "#l = plt.legend(loc='upper right')\n",
    "plt.grid(True)\n",
    "#plt.show()\n",
    "#plt.savefig('csr_mesh_field.png')\n",
    "\n",
    "# define grid.\n",
    "#pos =np.array([x, a]).T\n",
    "#grid_x, grid_a = np.mgrid[-0.05:0.05:500j, -0.005:0.005:500j]\n",
    "#grid_z0 = griddata( pos, tf_n, (grid_x, grid_a), method='nearest')\n",
    "\n",
    "plt.figure(2)\n",
    "# define grid.                                                                                                                                                                      \n",
    "#xi = np.linspace(-0.01,0.01,100)\n",
    "#ai = np.linspace(-0.01,0.01,100)\n",
    "xi = np.linspace(-0.005,0.005,100)\n",
    "ai = np.linspace(-0.0005,0.0005,100)\n",
    "pos =np.array([a, x]).T\n",
    "# grid the data.\n",
    "zi = griddata((a, x), tf_n, (ai[None,:], xi[:,None]), method='linear')\n",
    "# contour the gridded data, plotting dots at the randomly spaced data points.\n",
    "levels = np.linspace(-10.0, 10.0, 11)\n",
    "CS = plt.contour(ai,xi,zi,levels=levels,linewidths=0.7,colors='k')\n",
    "CS = plt.contourf(ai,xi,zi,levels=levels, cmap=plt.cm.jet)\n",
    "plt.colorbar() # draw colorbar\n",
    "# plot data points.\n",
    "#plt.scatter(x,a,marker='o',c='b',s=1)\n",
    "plt.ylim(-xx,xx)\n",
    "plt.xlim(-aa,aa)\n",
    "#plt.title('griddata test (%d points)' % npts)\n",
    "plt.show()"
   ]
  },
  {
   "cell_type": "code",
   "execution_count": null,
   "metadata": {},
   "outputs": [],
   "source": []
  },
  {
   "cell_type": "code",
   "execution_count": null,
   "metadata": {},
   "outputs": [],
   "source": []
  },
  {
   "cell_type": "code",
   "execution_count": null,
   "metadata": {},
   "outputs": [],
   "source": []
  }
 ],
 "metadata": {
  "file_extension": ".py",
  "kernelspec": {
   "display_name": "Python 3",
   "language": "python",
   "name": "python3"
  },
  "language_info": {
   "codemirror_mode": {
    "name": "ipython",
    "version": 3
   },
   "file_extension": ".py",
   "mimetype": "text/x-python",
   "name": "python",
   "nbconvert_exporter": "python",
   "pygments_lexer": "ipython3",
   "version": "3.9.1"
  },
  "mimetype": "text/x-python",
  "name": "python",
  "npconvert_exporter": "python",
  "pygments_lexer": "ipython2",
  "toc": {
   "base_numbering": 1,
   "nav_menu": {},
   "number_sections": true,
   "sideBar": true,
   "skip_h1_title": false,
   "title_cell": "Table of Contents",
   "title_sidebar": "Contents",
   "toc_cell": false,
   "toc_position": {},
   "toc_section_display": true,
   "toc_window_display": false
  },
  "version": 2
 },
 "nbformat": 4,
 "nbformat_minor": 2
}
